{
 "cells": [
  {
   "cell_type": "markdown",
   "metadata": {},
   "source": [
    "# GRAMÁTICAS\n",
    "\n",
    "G = (T, N, I, P)\n",
    "\n",
    "-> T = símbolos terminais\n",
    "\n",
    "-> N = símbolos não terminais\n",
    "\n",
    "-> I pertencente a N = símbolo inicial\n",
    "\n",
    "-> P = produções"
   ]
  },
  {
   "cell_type": "markdown",
   "metadata": {},
   "source": [
    "\n",
    "## Exemplo 1\n",
    "\n",
    "-> A partir da expressão regular ab\n",
    "\n",
    "1. T = {a, b}\n",
    "2. S -> ab\n",
    "3. N = {S}\n",
    "4. I = S\n",
    "\n",
    "-> Podemos descrever esta linguagem também a partir da seguinte gramática:\n",
    "\n",
    "1. T = {a, b}\n",
    "2. A -> a\n",
    "3. B -> b\n",
    "4. S -> AB\n",
    "5. N = {S, A, B}\n",
    "6. I = S"
   ]
  },
  {
   "cell_type": "markdown",
   "metadata": {},
   "source": [
    "## Exemplo 2\n",
    "\n",
    "-> A partir da expressão regular a+\n",
    "\n",
    "1. T = {a}\n",
    "2. S -> aS    # p1\n",
    "      | a     # p2\n",
    "\n",
    "-> Vamos derivar a frase aaaa\n",
    "\n",
    "S => por p1 => aS => por p1 => aaS => por p1 => aaaS => por p2 => aaaa"
   ]
  },
  {
   "cell_type": "markdown",
   "metadata": {},
   "source": [
    "## Exemplo 3\n",
    "\n",
    "-> A partir da expressão regular a*\n",
    "\n",
    "1. T = {a}\n",
    "2. S -> aS\n",
    "      | vazio"
   ]
  },
  {
   "cell_type": "markdown",
   "metadata": {},
   "source": [
    "## Exemplo 4\n",
    "\n",
    "-> A partir da expressão regular a*b\n",
    "\n",
    "1. T = {a, b}\n",
    "2. S -> aS\n",
    "      | b"
   ]
  },
  {
   "cell_type": "markdown",
   "metadata": {},
   "source": [
    "## Exemplo 5\n",
    "\n",
    "-> A partir da expressão regular a+b\n",
    "\n",
    "1. T = {a, b}\n",
    "2. S -> aS\n",
    "      | ab\n",
    "\n",
    "-> OU:\n",
    "\n",
    "1. T = {a, b}\n",
    "2. A -> aA\n",
    "      | a\n",
    "3. B -> b\n",
    "4. S -> AB"
   ]
  },
  {
   "cell_type": "markdown",
   "metadata": {},
   "source": [
    "## Exemplo 6\n",
    "\n",
    "-> A partir da expressão regular (a|b)*\n",
    "\n",
    "1. T = {a, b}\n",
    "2. S -> AS   # p1\n",
    "      | vazio   # p2\n",
    "3. A -> a   # p3\n",
    "      | b   # p4\n",
    "\n",
    "-> Vamos derivar a frase aba\n",
    "\n",
    "S => por p1 => AS => por p3 => aS => por p1 => aAS => por p4 => abS => por p1 => abAS => por p3 => abaS => por p2 => aba"
   ]
  },
  {
   "cell_type": "markdown",
   "metadata": {},
   "source": [
    "## Exemplo 7\n",
    "\n",
    "-> Para uma sequência em que o número de 'a' é igual ao número de 'b' a^n b^n, sendo n um número natural_{0}\n",
    "\n",
    "1. T = {a, b}\n",
    "2. S -> vazio   # p1\n",
    "       | aSb    # p2\n",
    "\n",
    "-> Vamos derivar a frase aabb\n",
    "\n",
    "S => por p2 => aSb => por p2 => aaSbb => por p3 => aabb"
   ]
  },
  {
   "cell_type": "markdown",
   "metadata": {},
   "source": [
    "## Exemplo 8\n",
    "\n",
    "-> Igual ao anterior, mas com um 'c' entre 'a' e 'b'\n",
    "\n",
    "1. T = {a, b}\n",
    "2. S -> c\n",
    "      | aSb"
   ]
  },
  {
   "cell_type": "markdown",
   "metadata": {},
   "source": [
    "## Exemplo 9\n",
    "\n",
    "-> Palavras palíndromes (leem-se igual em ambos os sentidos)\n",
    "\n",
    "1. T = {a, b}\n",
    "2. S -> vazio\n",
    "      | a\n",
    "      | b\n",
    "      | aSa\n",
    "      | bSb"
   ]
  },
  {
   "cell_type": "markdown",
   "metadata": {},
   "source": [
    "## Exemplo 10\n",
    "\n",
    "-> Linguagem que possa conter qualquer combinação entre 'a' e 'b', desde que o número de ocorrências de 'b' seja ímpar.\n",
    "\n",
    "1. T = {a, b}\n",
    "2. S -> aS\n",
    "      | bX\n",
    "3. X -> vazio\n",
    "      | aX\n",
    "      | bS"
   ]
  },
  {
   "cell_type": "markdown",
   "metadata": {},
   "source": [
    "## Exemplo 11\n",
    "\n",
    "-> Linguagem em que possa conter qualquer combinação entre 'a' e 'b', desde que o número de ocorrências de 'a' e 'b' seja o mesmo.\n",
    "\n",
    "1. T = {a, b}\n",
    "2. S -> vazio # p1\n",
    "      | aSbS  # p2\n",
    "      | bSaS  # p3\n",
    "\n",
    "-> Vamos derivar a frase abbaba\n",
    "\n",
    "S => por p2 => aSbS => por p1 => abS => por p3 => abbSaS => por p1 => abbaS => por p3 => abbabSas => por p1* (múltiplas vezes) => abbaba\n"
   ]
  },
  {
   "cell_type": "markdown",
   "metadata": {},
   "source": [
    "## Exemplo 12\n",
    "\n",
    "-> Implementação de uma linguagem que suporte listas de tipos variados ([ 1 2 a b ola 43 ])\n",
    "\n",
    "T = {[, ], NUM, PAL}\n",
    "\n",
    "lista -> [ elementos ] # p1\n",
    "\n",
    "elementos -> vazio # p2 | elemento elementos # p3\n",
    "\n",
    "elemento -> NUM # p4 | PAL # p5\n",
    "\n",
    "-> Vamos derivar [ NUM PAL NUM ]\n",
    "\n",
    "lista => por p1 => [ elementos ] => por p3 => [ elem elementos ] => por p4 => [ NUM elementos] => ... => [ NUM PAL NUM ]"
   ]
  },
  {
   "cell_type": "code",
   "execution_count": 2,
   "metadata": {},
   "outputs": [],
   "source": [
    "# A árvore de derivação para uma expressão [ NUM PAL ] seria:\n",
    "#                                                            lista\n",
    "#                                                      /       |       \\\n",
    "#                                                   [    elementos      ]\n",
    "#                                                        /       \\\n",
    "#                                                      elem     elementos\n",
    "#                                                       |        /     \\\n",
    "#                                                      NUM     elem    elementos\n",
    "#                                                               |          |\n",
    "#                                                              PAL       vazio"
   ]
  }
 ],
 "metadata": {
  "interpreter": {
   "hash": "e7370f93d1d0cde622a1f8e1c04877d8463912d04d973331ad4851f04de6915a"
  },
  "kernelspec": {
   "display_name": "Python 3.10.2 64-bit",
   "language": "python",
   "name": "python3"
  },
  "language_info": {
   "codemirror_mode": {
    "name": "ipython",
    "version": 3
   },
   "file_extension": ".py",
   "mimetype": "text/x-python",
   "name": "python",
   "nbconvert_exporter": "python",
   "pygments_lexer": "ipython3",
   "version": "3.10.2"
  },
  "orig_nbformat": 4
 },
 "nbformat": 4,
 "nbformat_minor": 2
}
